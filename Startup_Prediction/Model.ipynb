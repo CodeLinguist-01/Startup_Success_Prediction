{
 "cells": [
  {
   "cell_type": "markdown",
   "id": "38f099d3",
   "metadata": {},
   "source": [
    "# Step 1: Import Libraries\n"
   ]
  },
  {
   "cell_type": "code",
   "execution_count": 1,
   "id": "7d439f87",
   "metadata": {},
   "outputs": [],
   "source": [
    "import pandas as pd\n",
    "import numpy as np"
   ]
  },
  {
   "cell_type": "markdown",
   "id": "4e12452c",
   "metadata": {},
   "source": [
    "# Step 2: Load Dataset"
   ]
  },
  {
   "cell_type": "code",
   "execution_count": 2,
   "metadata": {},
   "outputs": [],
   "source": [
    "df = pd.read_csv('global_startup_success_dataset.csv')"
   ]
  },
  {
   "cell_type": "code",
   "execution_count": 3,
   "id": "a8d0641c",
   "metadata": {},
   "outputs": [
    {
     "data": {
      "text/html": [
       "<div>\n",
       "<style scoped>\n",
       "    .dataframe tbody tr th:only-of-type {\n",
       "        vertical-align: middle;\n",
       "    }\n",
       "\n",
       "    .dataframe tbody tr th {\n",
       "        vertical-align: top;\n",
       "    }\n",
       "\n",
       "    .dataframe thead th {\n",
       "        text-align: right;\n",
       "    }\n",
       "</style>\n",
       "<table border=\"1\" class=\"dataframe\">\n",
       "  <thead>\n",
       "    <tr style=\"text-align: right;\">\n",
       "      <th></th>\n",
       "      <th>Startup Name</th>\n",
       "      <th>Founded Year</th>\n",
       "      <th>Country</th>\n",
       "      <th>Industry</th>\n",
       "      <th>Funding Stage</th>\n",
       "      <th>Total Funding ($M)</th>\n",
       "      <th>Number of Employees</th>\n",
       "      <th>Annual Revenue ($M)</th>\n",
       "      <th>Valuation ($B)</th>\n",
       "      <th>Success Score</th>\n",
       "      <th>Acquired?</th>\n",
       "      <th>IPO?</th>\n",
       "      <th>Customer Base (Millions)</th>\n",
       "      <th>Tech Stack</th>\n",
       "      <th>Social Media Followers</th>\n",
       "    </tr>\n",
       "  </thead>\n",
       "  <tbody>\n",
       "    <tr>\n",
       "      <th>0</th>\n",
       "      <td>Startup_1</td>\n",
       "      <td>2009</td>\n",
       "      <td>Canada</td>\n",
       "      <td>Healthcare</td>\n",
       "      <td>Series A</td>\n",
       "      <td>269</td>\n",
       "      <td>3047</td>\n",
       "      <td>104</td>\n",
       "      <td>46.11</td>\n",
       "      <td>5</td>\n",
       "      <td>No</td>\n",
       "      <td>No</td>\n",
       "      <td>43</td>\n",
       "      <td>Java, Spring</td>\n",
       "      <td>4158814</td>\n",
       "    </tr>\n",
       "    <tr>\n",
       "      <th>1</th>\n",
       "      <td>Startup_2</td>\n",
       "      <td>2004</td>\n",
       "      <td>UK</td>\n",
       "      <td>Healthcare</td>\n",
       "      <td>IPO</td>\n",
       "      <td>40</td>\n",
       "      <td>630</td>\n",
       "      <td>431</td>\n",
       "      <td>33.04</td>\n",
       "      <td>1</td>\n",
       "      <td>No</td>\n",
       "      <td>Yes</td>\n",
       "      <td>64</td>\n",
       "      <td>Node.js, React</td>\n",
       "      <td>4063014</td>\n",
       "    </tr>\n",
       "    <tr>\n",
       "      <th>2</th>\n",
       "      <td>Startup_3</td>\n",
       "      <td>2018</td>\n",
       "      <td>USA</td>\n",
       "      <td>Healthcare</td>\n",
       "      <td>Seed</td>\n",
       "      <td>399</td>\n",
       "      <td>2475</td>\n",
       "      <td>375</td>\n",
       "      <td>15.79</td>\n",
       "      <td>8</td>\n",
       "      <td>No</td>\n",
       "      <td>No</td>\n",
       "      <td>74</td>\n",
       "      <td>PHP, Laravel</td>\n",
       "      <td>3449855</td>\n",
       "    </tr>\n",
       "    <tr>\n",
       "      <th>3</th>\n",
       "      <td>Startup_4</td>\n",
       "      <td>2014</td>\n",
       "      <td>France</td>\n",
       "      <td>Tech</td>\n",
       "      <td>Seed</td>\n",
       "      <td>404</td>\n",
       "      <td>1011</td>\n",
       "      <td>907</td>\n",
       "      <td>17.12</td>\n",
       "      <td>7</td>\n",
       "      <td>Yes</td>\n",
       "      <td>Yes</td>\n",
       "      <td>26</td>\n",
       "      <td>Python, AI</td>\n",
       "      <td>630421</td>\n",
       "    </tr>\n",
       "    <tr>\n",
       "      <th>4</th>\n",
       "      <td>Startup_5</td>\n",
       "      <td>2006</td>\n",
       "      <td>Japan</td>\n",
       "      <td>Energy</td>\n",
       "      <td>Series C</td>\n",
       "      <td>419</td>\n",
       "      <td>3917</td>\n",
       "      <td>280</td>\n",
       "      <td>4.39</td>\n",
       "      <td>6</td>\n",
       "      <td>Yes</td>\n",
       "      <td>Yes</td>\n",
       "      <td>30</td>\n",
       "      <td>Node.js, React</td>\n",
       "      <td>365956</td>\n",
       "    </tr>\n",
       "  </tbody>\n",
       "</table>\n",
       "</div>"
      ],
      "text/plain": [
       "  Startup Name  Founded Year Country    Industry Funding Stage  \\\n",
       "0    Startup_1          2009  Canada  Healthcare      Series A   \n",
       "1    Startup_2          2004      UK  Healthcare           IPO   \n",
       "2    Startup_3          2018     USA  Healthcare          Seed   \n",
       "3    Startup_4          2014  France        Tech          Seed   \n",
       "4    Startup_5          2006   Japan      Energy      Series C   \n",
       "\n",
       "   Total Funding ($M)  Number of Employees  Annual Revenue ($M)  \\\n",
       "0                 269                 3047                  104   \n",
       "1                  40                  630                  431   \n",
       "2                 399                 2475                  375   \n",
       "3                 404                 1011                  907   \n",
       "4                 419                 3917                  280   \n",
       "\n",
       "   Valuation ($B)  Success Score Acquired? IPO?  Customer Base (Millions)  \\\n",
       "0           46.11              5        No   No                        43   \n",
       "1           33.04              1        No  Yes                        64   \n",
       "2           15.79              8        No   No                        74   \n",
       "3           17.12              7       Yes  Yes                        26   \n",
       "4            4.39              6       Yes  Yes                        30   \n",
       "\n",
       "       Tech Stack  Social Media Followers  \n",
       "0    Java, Spring                 4158814  \n",
       "1  Node.js, React                 4063014  \n",
       "2    PHP, Laravel                 3449855  \n",
       "3      Python, AI                  630421  \n",
       "4  Node.js, React                  365956  "
      ]
     },
     "execution_count": 3,
     "metadata": {},
     "output_type": "execute_result"
    }
   ],
   "source": [
    "df.head()"
   ]
  },
  {
   "cell_type": "code",
   "execution_count": 4,
   "id": "8571c24d",
   "metadata": {},
   "outputs": [
    {
     "name": "stdout",
     "output_type": "stream",
     "text": [
      "<class 'pandas.core.frame.DataFrame'>\n",
      "RangeIndex: 5000 entries, 0 to 4999\n",
      "Data columns (total 15 columns):\n",
      " #   Column                    Non-Null Count  Dtype  \n",
      "---  ------                    --------------  -----  \n",
      " 0   Startup Name              5000 non-null   object \n",
      " 1   Founded Year              5000 non-null   int64  \n",
      " 2   Country                   5000 non-null   object \n",
      " 3   Industry                  5000 non-null   object \n",
      " 4   Funding Stage             5000 non-null   object \n",
      " 5   Total Funding ($M)        5000 non-null   int64  \n",
      " 6   Number of Employees       5000 non-null   int64  \n",
      " 7   Annual Revenue ($M)       5000 non-null   int64  \n",
      " 8   Valuation ($B)            5000 non-null   float64\n",
      " 9   Success Score             5000 non-null   int64  \n",
      " 10  Acquired?                 5000 non-null   object \n",
      " 11  IPO?                      5000 non-null   object \n",
      " 12  Customer Base (Millions)  5000 non-null   int64  \n",
      " 13  Tech Stack                5000 non-null   object \n",
      " 14  Social Media Followers    5000 non-null   int64  \n",
      "dtypes: float64(1), int64(7), object(7)\n",
      "memory usage: 586.1+ KB\n"
     ]
    }
   ],
   "source": [
    "df.info()"
   ]
  },
  {
   "cell_type": "code",
   "execution_count": 5,
   "id": "f5cfe8d7",
   "metadata": {},
   "outputs": [
    {
     "data": {
      "text/plain": [
       "Startup Name                0\n",
       "Founded Year                0\n",
       "Country                     0\n",
       "Industry                    0\n",
       "Funding Stage               0\n",
       "Total Funding ($M)          0\n",
       "Number of Employees         0\n",
       "Annual Revenue ($M)         0\n",
       "Valuation ($B)              0\n",
       "Success Score               0\n",
       "Acquired?                   0\n",
       "IPO?                        0\n",
       "Customer Base (Millions)    0\n",
       "Tech Stack                  0\n",
       "Social Media Followers      0\n",
       "dtype: int64"
      ]
     },
     "execution_count": 5,
     "metadata": {},
     "output_type": "execute_result"
    }
   ],
   "source": [
    "df.isnull().sum()"
   ]
  }
 ],
 "metadata": {
  "kernelspec": {
   "display_name": "Python 3",
   "language": "python",
   "name": "python3"
  },
  "language_info": {
   "codemirror_mode": {
    "name": "ipython",
    "version": 3
   },
   "file_extension": ".py",
   "mimetype": "text/x-python",
   "name": "python",
   "nbconvert_exporter": "python",
   "pygments_lexer": "ipython3",
   "version": "3.12.5"
  }
 },
 "nbformat": 4,
 "nbformat_minor": 5
}
